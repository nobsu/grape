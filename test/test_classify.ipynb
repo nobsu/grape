{
 "cells": [
  {
   "cell_type": "code",
   "execution_count": 12,
   "metadata": {
    "collapsed": true
   },
   "outputs": [],
   "source": [
    "import sys\n",
    "import jieba\n",
    "import numpy\n",
    "from sklearn import metrics\n",
    "from sklearn.feature_extraction.text import HashingVectorizer\n",
    "from sklearn.naive_bayes import MultinomialNB\n",
    "\n",
    "from grape.common.mydb import Ndb\n",
    "\n",
    "def load_data():\n",
    "    db = Ndb.getins()\n",
    "    sql = \"SELECT id, class, title, url, content, source, time FROM `trainingset`\"\n",
    "    result = db.query(sql)\n",
    "    return result"
   ]
  },
  {
   "cell_type": "code",
   "execution_count": 11,
   "metadata": {
    "collapsed": false
   },
   "outputs": [
    {
     "data": {
      "text/plain": [
       "array([[0, 0, 0, 0, 1, 0, 1, 0],\n",
       "       [1, 0, 0, 0, 0, 0, 0, 1],\n",
       "       [0, 1, 0, 1, 0, 1, 0, 0],\n",
       "       [0, 0, 1, 0, 0, 0, 0, 0]], dtype=int64)"
      ]
     },
     "execution_count": 11,
     "metadata": {},
     "output_type": "execute_result"
    }
   ],
   "source": [
    "from sklearn import naive_bayes\n",
    "from sklearn.feature_extraction.text import CountVectorizer\n",
    "\n",
    "# docs = []\n",
    "# classes = []\n",
    "# for item in load_data():\n",
    "#     docs.append(item['title'] + item['content'])\n",
    "#     classes.append(item['class'])\n",
    "\n",
    "train_words = [\n",
    "     u'PP租车网问题频出 多车主到总部维权.',\n",
    "     u'网上租车倒卖 24名诈骗嫌犯被刑拘.',\n",
    "     u'PP租车王嘉明：坚定看好汽车共享，P2P租车剩者为王.',\n",
    "     u'PP租车北京巡游倡导汽车共享理念',\n",
    " ]\n",
    "\n",
    "vectorizer = CountVectorizer()\n",
    "train_data = vectorizer.fit_transform(train_words)\n",
    "mn_bow = np.array(train_data.todense())\n",
    "\n",
    "multinom = naive_bayes.MultinomialNB()\n"
   ]
  },
  {
   "cell_type": "code",
   "execution_count": null,
   "metadata": {
    "collapsed": true
   },
   "outputs": [],
   "source": []
  },
  {
   "cell_type": "code",
   "execution_count": null,
   "metadata": {
    "collapsed": true
   },
   "outputs": [],
   "source": []
  }
 ],
 "metadata": {
  "kernelspec": {
   "display_name": "Python 2",
   "language": "python",
   "name": "python2"
  },
  "language_info": {
   "codemirror_mode": {
    "name": "ipython",
    "version": 2
   },
   "file_extension": ".py",
   "mimetype": "text/x-python",
   "name": "python",
   "nbconvert_exporter": "python",
   "pygments_lexer": "ipython2",
   "version": "2.7.8"
  }
 },
 "nbformat": 4,
 "nbformat_minor": 0
}
